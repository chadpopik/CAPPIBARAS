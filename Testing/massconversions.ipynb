{
 "cells": [
  {
   "cell_type": "code",
   "execution_count": null,
   "id": "3bd4f3c3",
   "metadata": {},
   "outputs": [],
   "source": [
    "import sys\n",
    "sys.path.append('/global/homes/c/cpopik/Capybara')\n",
    "from Basics import *\n",
    "setplot(dark=True)"
   ]
  },
  {
   "cell_type": "code",
   "execution_count": null,
   "id": "7f71cdfc",
   "metadata": {},
   "outputs": [],
   "source": [
    "np.log10(massconv(cosmo, 10**logmshalo, 1/(1+zs[1])))"
   ]
  },
  {
   "cell_type": "code",
   "execution_count": null,
   "id": "4e5b6507",
   "metadata": {},
   "outputs": [],
   "source": [
    "import pyccl\n",
    "\n",
    "pyccl.halos.concentration.diemer15\n",
    "\n",
    "# pyccl.halos.concentration.ConcentrationDiemer15.\n",
    "\n",
    "cosmo = pyccl.Cosmology(h=0.7, Omega_c=0.25, Omega_b=0.044, n_s=0.95, sigma8=0.8,transfer_function='bbks')\n",
    "\n",
    "massconv = pyccl.halos.massdef.mass_translator(mass_in='200c', mass_out='vir',\n",
    "                                    concentration='Diemer15')\n",
    "\n",
    "logmshalo = np.linspace(10, 14, 50)\n",
    "zs = np.linspace(0.4, 1.1, 10)\n",
    "np.array([np.log10(massconv(cosmo, 10**logmshalo, 1/(1+z))) for z in zs]).shape"
   ]
  }
 ],
 "metadata": {
  "language_info": {
   "name": "python"
  }
 },
 "nbformat": 4,
 "nbformat_minor": 5
}
