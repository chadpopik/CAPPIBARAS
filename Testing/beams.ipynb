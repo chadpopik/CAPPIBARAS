{
 "cells": [
  {
   "cell_type": "code",
   "execution_count": 1,
   "id": "66dac62e",
   "metadata": {},
   "outputs": [],
   "source": [
    "import sys\n",
    "sys.path.append('/global/homes/c/cpopik/Capybara')\n",
    "from Basics import *\n",
    "setplot(dark=True)"
   ]
  },
  {
   "cell_type": "code",
   "execution_count": 2,
   "id": "adc44da4",
   "metadata": {},
   "outputs": [],
   "source": [
    "datapath = \"/global/homes/c/cpopik/Data/\"\n",
    "\n",
    "ells_b, dr5beam_data150 = np.genfromtxt(f\"{datapath}/ACTDR5/beams/act_planck_dr5.01_s08s18_f150_daynight_beam.txt\").T\n",
    "dr5beam_ells90, dr5beam_data90 = np.genfromtxt(f\"{datapath}/ACTDR5/beams/act_planck_dr5.01_s08s18_f090_daynight_beam.txt\").T\n",
    "\n",
    "dr5resp150 = np.genfromtxt(f\"{datapath}/ACTDR5/responses/act_planck_dr5.01_s08s18_AA_f150_daynight_response_tsz.txt\").T\n",
    "ells_r = dr5resp150[0]\n",
    "\n",
    "dr5resp90 = np.genfromtxt(f\"{datapath}/ACTDR5/responses/act_planck_dr5.01_s08s18_AA_f090_daynight_response_tsz.txt\").T\n",
    "\n",
    "bpath =\"/global/cfs/projectdirs/act/data/act_dr6v4/beams/daytime_beams/\"\n",
    "daytime150=  np.genfromtxt(bpath+\"/beam_full_pa6_f150_daywide_beam.txt\").T\n",
    "daytime90=  np.genfromtxt(bpath+\"/beam_full_pa6_f090_daywide_beam.txt\").T\n",
    "\n",
    "FWHM = 1.6 * u.arcmin.to(u.rad)\n",
    "sigma = FWHM/np.sqrt(8*np.log(2))\n",
    "gaussbeam = np.exp(-ells_b*(ells_b+1)*sigma**2/2)"
   ]
  },
  {
   "cell_type": "code",
   "execution_count": null,
   "id": "475c0410",
   "metadata": {},
   "outputs": [],
   "source": [
    "fig, axs = plt.subplots(2, 2, figsize=(15, 12), layout='constrained', sharex=True)\n",
    "axs = axs.flatten()\n",
    "\n",
    "axs[0].plot(ells_b, dr5beam_data150, label='ACT DR5', ls=':')\n",
    "axs[2].plot(ells_b, dr5beam_data90, label='ACT DR5', ls=':')\n",
    "axs[0].plot(ells_b, gaussbeam, label='Gaussian')\n",
    "axs[2].plot(ells_b, gaussbeam, label='Gaussian')\n",
    "\n",
    "axs[0].plot(daytime150[0], daytime150[1], alpha=0.7, label=f'Daytime')\n",
    "axs[0].plot(daytime150[0], daytime150[3], alpha=0.7, label=f'Nighttime')\n",
    "axs[0].plot(daytime150[0], daytime150[5], alpha=0.7, label=f'?')\n",
    "\n",
    "axs[2].plot(daytime90[0], daytime90[1], alpha=0.7, label=f'Daytime')\n",
    "axs[2].plot(daytime90[0], daytime90[3], alpha=0.7, label=f'Nighttime')\n",
    "axs[2].plot(daytime90[0], daytime90[5], alpha=0.7, label=f'?')\n",
    "\n",
    "axs[1].errorbar(ells_r, dr5resp150[1], dr5resp150[2], alpha=0.7, ls='--', label='ACT DR5 I')\n",
    "axs[1].errorbar(ells_r, dr5resp150[3], dr5resp150[4], alpha=0.7, ls='--', label='ACT DR5 Q')\n",
    "axs[1].errorbar(ells_r, dr5resp150[5], dr5resp150[6], alpha=0.7, ls='--', label='ACT DR5 U')\n",
    "axs[3].errorbar(ells_r, dr5resp90[1], dr5resp90[2], alpha=0.7, ls='--', label='ACT DR5 I')\n",
    "axs[3].errorbar(ells_r, dr5resp90[3], dr5resp90[4], alpha=0.7, ls='--', label='ACT DR5 Q')\n",
    "axs[3].errorbar(ells_r, dr5resp90[5], dr5resp90[6], alpha=0.7, ls='--', label='ACT DR5 U')\n",
    "\n",
    "axs[0].set(ylabel=r'beam'), axs[0].legend(title=r'150 GHz')\n",
    "axs[2].set(xlabel=(r'$\\ell$'), ylabel=r'beam', xlim=(-100, 15000)), axs[2].legend(title=r'90 GHz')\n",
    "\n",
    "axs[1].set(ylabel=r'response'), axs[1].legend(title=r'150 GHz')\n",
    "axs[3].set(xlabel=(r'$\\ell$'), ylabel=r'response'), axs[1].legend(title=r'90 GHz')"
   ]
  },
  {
   "cell_type": "code",
   "execution_count": null,
   "id": "2e1150f1",
   "metadata": {},
   "outputs": [],
   "source": [
    "ViewDataOrganization(\"/global/cfs/projectdirs/act/data/act_dr6v4/beams\")"
   ]
  },
  {
   "cell_type": "code",
   "execution_count": null,
   "id": "d942ef69",
   "metadata": {},
   "outputs": [],
   "source": [
    "ViewDataOrganization(\"/global/cfs/projectdirs/act/data/act_dr6v4/beams/daytime_beams\")"
   ]
  },
  {
   "cell_type": "code",
   "execution_count": null,
   "id": "34e31b99",
   "metadata": {},
   "outputs": [],
   "source": [
    "bpath =\"/global/cfs/projectdirs/act/data/act_dr6v4/beams/daytime_beams/\"\n",
    "thing=  np.genfromtxt(bpath+\"/beam_full_pa4_f150_daywide_beam.txt\").T\n",
    "\n",
    "plt.errorbar(thing[0], thing[1], yerr=thing[2], alpha=0.7, label=f'Daytime')\n",
    "plt.errorbar(thing[0], thing[3], yerr=thing[4], alpha=0.7, label=f'Nighttime')\n",
    "plt.plot(thing[0], thing[5], alpha=0.7, label=f'?')\n",
    "\n",
    "\n",
    "plt.legend(loc='right')"
   ]
  },
  {
   "cell_type": "code",
   "execution_count": null,
   "id": "48980add",
   "metadata": {},
   "outputs": [],
   "source": [
    "bpath =\"/global/cfs/projectdirs/act/data/act_dr6v4/passbands/processed\"\n",
    "thing = np.load(bpath+\"/passband_dr6_pa4_f150.dat\").T"
   ]
  }
 ],
 "metadata": {
  "kernelspec": {
   "display_name": "soliket-test2",
   "language": "python",
   "name": "python3"
  },
  "language_info": {
   "codemirror_mode": {
    "name": "ipython",
    "version": 3
   },
   "file_extension": ".py",
   "mimetype": "text/x-python",
   "name": "python",
   "nbconvert_exporter": "python",
   "pygments_lexer": "ipython3",
   "version": "3.10.13"
  }
 },
 "nbformat": 4,
 "nbformat_minor": 5
}
