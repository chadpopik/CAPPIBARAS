{
 "cells": [
  {
   "cell_type": "code",
   "execution_count": 5,
   "id": "d232d254",
   "metadata": {},
   "outputs": [],
   "source": [
    "import numpy as np\n",
    "import matplotlib.pyplot as plt\n",
    "import importlib\n",
    "import sys\n",
    "\n",
    "import astropy\n",
    "import astropy.units as u\n",
    "import astropy.constants as c\n",
    "from astropy.cosmology import default_cosmology"
   ]
  },
  {
   "cell_type": "code",
   "execution_count": 2,
   "id": "b8ecd5d6",
   "metadata": {},
   "outputs": [],
   "source": [
    "# Plot Styling\n",
    "plt.style.use('dark_background')\n",
    "plt.rcParams.update({\n",
    "    'font.family':'serif', 'mathtext.fontset':'dejavuserif',\n",
    "    'axes.grid':True, 'grid.linestyle': ':', 'grid.alpha': 0.5,\n",
    "    'xtick.direction':'in', 'xtick.minor.visible': True, 'xtick.top':True,\n",
    "    'ytick.direction':'in', 'ytick.minor.visible': True, 'ytick.right':True,\n",
    "    'figure.figsize': [9, 6], 'axes.titlesize':30, 'legend.fontsize': 15, 'legend.title_fontsize': 20,\n",
    "    'axes.labelsize':25, 'xtick.labelsize':15, 'ytick.labelsize':15\n",
    "})"
   ]
  },
  {
   "cell_type": "code",
   "execution_count": 6,
   "id": "13672395",
   "metadata": {},
   "outputs": [],
   "source": [
    "sys.path.append('/global/homes/c/cpopik/Capybara')\n",
    "from Models import SHMRs, HaloModels, HODs, SMFs\n",
    "\n",
    "fmoddict = {\n",
    "    'SHMR': {\n",
    "        'name':'Kravstov2014', \n",
    "        'spefs': {\n",
    "            'sample':'M200c'}},\n",
    "    'HMF': {\n",
    "        'name':'pyccl', \n",
    "        'spefs': {\n",
    "            'mfunc':'Tinker08', \n",
    "            'mdef':'200c', \n",
    "            'hbias':'Tinker10'}},\n",
    "    'SMF': {\n",
    "        'name': 'BOSSDR10', \n",
    "        'spefs': {\n",
    "            'galaxy':'CMASS', \n",
    "            'group':'portsmouth', \n",
    "            'template':'passive', \n",
    "            'IMF':'Kroupa'}},\n",
    "    'HOD': {\n",
    "        'name':'Kou2023', \n",
    "        'spefs': {\n",
    "            'sample':'M*>10.8'}},}\n",
    "\n",
    "hod = getattr(HODs, fmoddict['HOD']['name'])(fmoddict['HOD']['spefs'])\n",
    "shmr = getattr(SHMRs, fmoddict['SHMR']['name'])(fmoddict['SHMR']['spefs'])\n",
    "smf = getattr(SMFs, fmoddict['SMF']['name'])(fmoddict['SMF']['spefs'])\n",
    "hmod = getattr(HaloModels, fmoddict['HMF']['name'])(fmoddict['HMF']['spefs'])"
   ]
  },
  {
   "cell_type": "code",
   "execution_count": 7,
   "id": "3a9d4ac8",
   "metadata": {},
   "outputs": [],
   "source": [
    "params = {\n",
    "    \"hh\": {\n",
    "        \"value\": 0.7},\n",
    "    \"Omega_L\": {\n",
    "        \"value\": 0.75},\n",
    "    \"Omega_m\": {\n",
    "        \"value\": 0.25},\n",
    "    \"Omega_b\": {\n",
    "        \"value\": 0.044},\n",
    "    \"T_CMB\": {\n",
    "        \"value\": 2.725},\n",
    "    \"XH\": {\n",
    "        \"value\": 0.76},        # hydrogen fraction\n",
    "    \"v_rms\": {\n",
    "        \"value\": 1.06e-3}   # v_rms/c, used for kSZ\n",
    "}\n",
    "\n",
    "cpars = {k: v[\"value\"] for k, v in params.items() if isinstance(v, dict) and \"value\" in v}  "
   ]
  },
  {
   "cell_type": "code",
   "execution_count": 27,
   "id": "53398801",
   "metadata": {},
   "outputs": [],
   "source": [
    "# Radial bins are chosen somewhat arbitrarily here\n",
    "rs = np.logspace(-1.5, 1.5, 100)\n",
    "\n",
    "# Add limits and bins for redshift and mass\n",
    "zbins = np.linspace(0.4, 0.8, 21)\n",
    "logmhalobins = np.linspace(12, 14, 51)\n",
    "\n",
    "# Get the SMF and distributions, and the z and mstar arrays\n",
    "hmf_smf = smf.SMF_to_HMF(logmhalobins, shmr.SHMR, zbins=zbins, **cpars)\n",
    "ndist = smf.Ndist_halo(logmhalobins, shmr.SHMR, zbins=zbins, **cpars)\n",
    "zs, logmhalos = smf.z, smf.logmhalo"
   ]
  },
  {
   "cell_type": "code",
   "execution_count": 9,
   "id": "6440eba5",
   "metadata": {},
   "outputs": [],
   "source": [
    "cosmology = astropy.cosmology.LambdaCDM(H0=cpars[\"hh\"]*100, Tcmb0=cpars['T_CMB'], Om0=cpars[\"Omega_m\"], Ode0=cpars[\"Omega_L\"], Ob0=cpars[\"Omega_b\"])\n",
    "\n",
    "Hs = cosmology.H(zs).to(u.km/u.s/u.Mpc).value\n",
    "rhocs = cosmology.critical_density(zs).to(u.Msun/u.Mpc**3).value\n",
    "dAs = cosmology.angular_diameter_distance(zs).value\n",
    "r200cs = (10**logmhalos/(4/3*np.pi*200*rhocs[:, None]))**(1/3)\n",
    "\n",
    "# We'll also need average angular diameter distance for the projection later\n",
    "zave = np.sum(smf.N()*smf.z[:, None])/smf.N().sum()\n",
    "dA_ave = cosmology.angular_diameter_distance(zave).value"
   ]
  },
  {
   "cell_type": "code",
   "execution_count": 10,
   "id": "dbbf30b7",
   "metadata": {},
   "outputs": [],
   "source": [
    "from Models import FFTs\n",
    "\n",
    "fft = FFTs.mcfit_package(rs)\n",
    "ks = fft.ks"
   ]
  },
  {
   "cell_type": "code",
   "execution_count": 28,
   "id": "0a954d23",
   "metadata": {},
   "outputs": [],
   "source": [
    "hmf_hmod = hmod.HMF(zs, logmhalos, **cpars)\n",
    "bhs = hmod.bh(zs, logmhalos, **cpars)\n",
    "Plins = hmod.Plin(ks, zs, **cpars)"
   ]
  },
  {
   "cell_type": "code",
   "execution_count": 14,
   "id": "99e41e4c",
   "metadata": {},
   "outputs": [],
   "source": [
    "from Models import Profiles, Data, Dust\n",
    "\n",
    "tSZdict = {\n",
    "    'data': {\n",
    "        'name':'Schaan2021', \n",
    "         'spefs': {\n",
    "             'freq': '150', \n",
    "             'sample':'cmass'}},\n",
    "    'onehalo': {\n",
    "        'name':'Amodeo2021', \n",
    "         'spefs': {\n",
    "             'model':'GNFW'}},\n",
    "    'twohalo': {\n",
    "        'name':'Amodeo2021', \n",
    "         'spefs': {\n",
    "             'model':'GNFW'}},\n",
    "    'dust': {\n",
    "        'name':'Amodeo2021',\n",
    "        'spefs': {\n",
    "            'model':'ACT+Hershel'}}}\n",
    "\n",
    "# Define a pressure and dust profile\n",
    "Pth1h = getattr(Profiles, tSZdict['onehalo']['name'])(tSZdict['onehalo']['spefs'])\n",
    "Pth2h = getattr(Profiles, tSZdict['twohalo']['name'])(tSZdict['twohalo']['spefs'])\n",
    "tSZmeas = getattr(Data, tSZdict['data']['name'])(tSZdict['data']['spefs'])\n",
    "tSZdust = getattr(Dust, tSZdict['dust']['name'])(tSZdict['dust']['spefs'])"
   ]
  },
  {
   "cell_type": "code",
   "execution_count": 15,
   "id": "a91ae959",
   "metadata": {},
   "outputs": [],
   "source": [
    "kSZdict = {\n",
    "    'data': {\n",
    "        'name':'Schaan2021', \n",
    "         'spefs': {\n",
    "             'freq': '150', \n",
    "             'sample':'cmass'}},\n",
    "    'onehalo': {\n",
    "        'name':'Amodeo2021', \n",
    "        'spefs': {\n",
    "            'model':'GNFW'}},\n",
    "    'twohalo': {\n",
    "        'name':'Amodeo2021', \n",
    "        'spefs': {\n",
    "            'model':'GNFW'}},}\n",
    "\n",
    "rho1h = getattr(Profiles, kSZdict['onehalo']['name'])(kSZdict['onehalo']['spefs'])\n",
    "rho2h = getattr(Profiles, kSZdict['twohalo']['name'])(kSZdict['twohalo']['spefs'])\n",
    "kSZmeas = getattr(Data, kSZdict['data']['name'])(kSZdict['data']['spefs'])"
   ]
  },
  {
   "cell_type": "code",
   "execution_count": 16,
   "id": "cf1b8b2c",
   "metadata": {},
   "outputs": [],
   "source": [
    "Pth = lambda params={}: Pth1h.Pth1h(rs, zs, logmhalos, rhocs, r200cs, **cpars)(params) + Pth2h.Pth2h(rs, zs, logmhalos, rhocs, r200cs, Plins, bhs, HMFs,fft.FFT3D, fft.IFFT3D, ks, **cpars)(params)[..., None]\n",
    "\n",
    "rho = lambda params={}: rho1h.rho1h(rs, zs, logmhalos, rhocs, r200cs, **cpars)(params) + rho2h.rho2h(rs, zs, logmhalos, rhocs, r200cs, Plins, bhs, HMFs, fft.FFT3D, fft.IFFT3D, ks, **cpars)(params)[..., None]"
   ]
  },
  {
   "cell_type": "code",
   "execution_count": null,
   "id": "78061a5d",
   "metadata": {},
   "outputs": [
    {
     "data": {
      "text/plain": [
       "array([[1.06749492e-11, 1.09505523e-11, 1.12291237e-11, ...,\n",
       "        1.57251684e-11, 1.60427428e-11, 1.63619874e-11],\n",
       "       [1.11105986e-11, 1.13955644e-11, 1.16834220e-11, ...,\n",
       "        1.63026588e-11, 1.66269196e-11, 1.69526056e-11],\n",
       "       [1.05840065e-11, 1.08570135e-11, 1.11329397e-11, ...,\n",
       "        1.55830815e-11, 1.58971693e-11, 1.62128750e-11],\n",
       "       ...,\n",
       "       [4.70784156e-16, 4.82635142e-16, 4.94805841e-16, ...,\n",
       "        7.18143167e-16, 7.35889292e-16, 7.54004601e-16],\n",
       "       [3.71344986e-16, 3.80676797e-16, 3.90262132e-16, ...,\n",
       "        5.66406534e-16, 5.80419738e-16, 5.94726760e-16],\n",
       "       [2.78532012e-16, 2.85496606e-16, 2.92653838e-16, ...,\n",
       "        4.24674147e-16, 4.35211009e-16, 4.45973330e-16]])"
      ]
     },
     "execution_count": 77,
     "metadata": {},
     "output_type": "execute_result"
    }
   ],
   "source": [
    "from Models import Spectra\n",
    "importlib.reload(Spectra)\n",
    "\n",
    "Nc, Ns = hod.Nc(logmhalos), hod.Ns(logmhalos)\n",
    "uck, usk = hod.uck(), hod.usk(rs, r200cs, fft.FFT3D)\n",
    "\n",
    "cross = Spectra.HODweighting(Nc, Ns, uck, usk, logmhalos, hmf_hmod, fft.FFT3D, fft.FFT1D, **cpars)\n",
    "\n",
    "cross(Pth())"
   ]
  },
  {
   "cell_type": "code",
   "execution_count": 74,
   "id": "abc7dea0",
   "metadata": {},
   "outputs": [
    {
     "ename": "TypeError",
     "evalue": "'numpy.ndarray' object is not callable",
     "output_type": "error",
     "traceback": [
      "\u001b[0;31m---------------------------------------------------------------------------\u001b[0m",
      "\u001b[0;31mTypeError\u001b[0m                                 Traceback (most recent call last)",
      "Cell \u001b[0;32mIn[74], line 1\u001b[0m\n\u001b[0;32m----> 1\u001b[0m \u001b[43mcross\u001b[49m\u001b[43m(\u001b[49m\u001b[43mPth\u001b[49m\u001b[43m(\u001b[49m\u001b[43m)\u001b[49m\u001b[43m)\u001b[49m\n",
      "File \u001b[0;32m~/Capybara/Models/Spectra.py:48\u001b[0m, in \u001b[0;36mHODweighting.<locals>.<lambda>\u001b[0;34m(Pth, p)\u001b[0m\n\u001b[1;32m     46\u001b[0m crossspec \u001b[38;5;241m=\u001b[39m \u001b[38;5;28;01mlambda\u001b[39;00m Pth, p\u001b[38;5;241m=\u001b[39m{}: np\u001b[38;5;241m.\u001b[39mtrapz(FFT3D(Pth)\u001b[38;5;241m*\u001b[39mHg(p)\u001b[38;5;241m*\u001b[39mhmf, logM)\n\u001b[1;32m     47\u001b[0m denominator \u001b[38;5;241m=\u001b[39m \u001b[38;5;28;01mlambda\u001b[39;00m p\u001b[38;5;241m=\u001b[39m{}: np\u001b[38;5;241m.\u001b[39mtrapz(Hg(p)\u001b[38;5;241m*\u001b[39mhmf, logM)\n\u001b[0;32m---> 48\u001b[0m \u001b[38;5;28;01mreturn\u001b[39;00m \u001b[38;5;28;01mlambda\u001b[39;00m Pth, p\u001b[38;5;241m=\u001b[39m{}: \u001b[43mIFFT1D\u001b[49m\u001b[43m(\u001b[49m\u001b[43mcrossspec\u001b[49m\u001b[43m(\u001b[49m\u001b[43mPth\u001b[49m\u001b[43m,\u001b[49m\u001b[43m \u001b[49m\u001b[43mp\u001b[49m\u001b[43m)\u001b[49m\u001b[38;5;241;43m/\u001b[39;49m\u001b[43mdenominator\u001b[49m\u001b[43m(\u001b[49m\u001b[43mp\u001b[49m\u001b[43m)\u001b[49m\u001b[43m)\u001b[49m\n",
      "\u001b[0;31mTypeError\u001b[0m: 'numpy.ndarray' object is not callable"
     ]
    }
   ],
   "source": [
    "cross(Pth())"
   ]
  },
  {
   "cell_type": "code",
   "execution_count": null,
   "id": "9140b341",
   "metadata": {},
   "outputs": [],
   "source": []
  },
  {
   "cell_type": "code",
   "execution_count": null,
   "id": "c4392bec",
   "metadata": {},
   "outputs": [],
   "source": []
  },
  {
   "cell_type": "code",
   "execution_count": null,
   "id": "f03caea7",
   "metadata": {},
   "outputs": [],
   "source": []
  },
  {
   "cell_type": "code",
   "execution_count": null,
   "id": "2b98c1ce",
   "metadata": {},
   "outputs": [],
   "source": []
  },
  {
   "cell_type": "code",
   "execution_count": null,
   "id": "f4186c2a",
   "metadata": {},
   "outputs": [],
   "source": []
  },
  {
   "cell_type": "code",
   "execution_count": null,
   "id": "d237ef96",
   "metadata": {},
   "outputs": [],
   "source": []
  },
  {
   "cell_type": "code",
   "execution_count": null,
   "id": "36056b89",
   "metadata": {},
   "outputs": [],
   "source": [
    "cpars = {\"hh\": 0.7, \"Omega_L\":0.7, \"Omega_m\":0.3, \"Omega_b\": 0.044, \"XH\": 0.76, \"T_CMB\":2.725}\n",
    "logmshalo = np.linspace(10, 14, 50)\n",
    "zs = np.linspace(0.4, 1.1, 10)\n",
    "rs = np.logspace(-1.5, 1.5, 100)\n",
    "\n",
    "cosmology = astropy.cosmology.LambdaCDM(H0=cpars[\"hh\"]*100, Tcmb0=2.726, Om0=cpars[\"Omega_m\"], Ode0=cpars[\"Omega_L\"], Ob0=cpars[\"Omega_b\"])\n",
    "rhoc_func = lambda z: cosmology.critical_density(z).to(u.Msun/u.Mpc**3).value\n",
    "r200c_func = lambda z, logm200c: (10**logm200c/(4/3*np.pi*200*rhoc_func(z[:, None])))**(1/3)\n",
    "H_func = lambda z: cosmology.H(z).to(u.km/u.s/u.Mpc).value\n",
    "chi_func = lambda z: cosmology.comoving_distance(z).value\n",
    "\n",
    "rhocs = rhoc_func(zs)\n",
    "rs200c = r200c_func(zs, logmshalo)\n",
    "Hs = H_func(zs)\n",
    "chis = chi_func(zs)"
   ]
  },
  {
   "cell_type": "code",
   "execution_count": null,
   "id": "45c08765",
   "metadata": {},
   "outputs": [],
   "source": [
    "import Models.FFTs as FFTs\n",
    "ks, FFT_func = FFTs.mcfit_package(rs).FFT3D()\n",
    "rs_rev, IFFT_func = FFTs.mcfit_package(rs).IFFT3D()\n",
    "rs_rev, IFFT1D_func = FFTs.mcfit_package(rs).IFFT1D()\n",
    "rs_rev, IFFT2D_func = FFTs.mcfit_package(rs).IFFT2D()\n",
    "\n",
    "\n",
    "import Capybara.Models.HaloModels as HaloModels\n",
    "hmfccl = HaloModels.pyccl({'mdef':'200c', 'mfunc':'Tinker08', 'hbias':'Tinker10'})\n",
    "Pklin = hmfccl.Plin(ks, zs, **cpars)\n",
    "bias = hmfccl.bh(zs, logmshalo, **cpars)\n",
    "hmf = hmfccl.HMF(zs, logmshalo, **cpars)\n",
    "\n",
    "import Models.HODs as HODs\n",
    "importlib.reload(HODs)\n",
    "\n",
    "Kou = HODs.Kou2023({'sample':'M*>10.8'})\n",
    "\n",
    "import Models.Profiles as Profiles\n",
    "importlib.reload(Profiles)\n",
    "\n",
    "AmodeoPth_1h = Profiles.Amodeo2021({'model':'GNFW'}).Pth1h(rs, zs, logmshalo, rhocs, rs200c, **cpars)"
   ]
  },
  {
   "cell_type": "code",
   "execution_count": null,
   "id": "8925bdb4",
   "metadata": {},
   "outputs": [],
   "source": [
    "np.trapz(hmf, logmshalo)"
   ]
  },
  {
   "cell_type": "code",
   "execution_count": null,
   "id": "19a5166b",
   "metadata": {},
   "outputs": [],
   "source": [
    "import Models.Spectra as Spectra\n",
    "importlib.reload(Spectra)\n",
    "\n",
    "Nc = Kou.Nc(logmshalo)()\n",
    "Ns = Kou.Ns(logmshalo)()\n",
    "uck = Kou.uck()\n",
    "usk = Kou.usk(rs, rs200c, FFT_func)()\n",
    "y_k = Spectra.y_k(FFT_func, **cpars)(AmodeoPth_1h())\n",
    "\n",
    "Pgy = Spectra.Pgy1h(logmshalo, hmf, y_k, Hs, Nc, Ns, uck, usk)\n",
    "\n",
    "zdist = scipy.stats.norm.pdf(zs, loc=0.5, scale=0.1) \n",
    "ells = np.geomspace(50, 10000, 100)\n",
    "C_ells = Spectra.limber(ks, zs, Spectra.W_g(zdist), Spectra.W_y(zs), Hs, chis, ells)\n",
    "\n",
    "test1 = Spectra.HODweighting(zs, logmshalo, hmf, FFT_func, IFFT1D_func,zdist)(AmodeoPth_1h(), H_g=Spectra.H_g(Nc, Ns, uck, usk, logmshalo, hmf))\n",
    "test2 = Spectra.HODweighting(zs, logmshalo, hmf, FFT_func, IFFT1D_func, zdist,H_g=Spectra.H_g(Nc, Ns, uck, usk, logmshalo, hmf))(AmodeoPth_1h())"
   ]
  },
  {
   "cell_type": "code",
   "execution_count": null,
   "id": "45ad4e1c",
   "metadata": {},
   "outputs": [],
   "source": [
    "plt.plot(rs, zdist)"
   ]
  },
  {
   "cell_type": "code",
   "execution_count": null,
   "id": "71cfbf2d",
   "metadata": {},
   "outputs": [],
   "source": [
    "np.average(zs, weights=zdist)"
   ]
  },
  {
   "cell_type": "code",
   "execution_count": null,
   "id": "7678ef96",
   "metadata": {},
   "outputs": [],
   "source": [
    "zs[1]-zs[0]"
   ]
  },
  {
   "cell_type": "code",
   "execution_count": null,
   "id": "70ac993d",
   "metadata": {},
   "outputs": [],
   "source": [
    "np.trapz(zdist)/(zs[1]-zs[0])"
   ]
  },
  {
   "cell_type": "code",
   "execution_count": null,
   "id": "89be2d9b",
   "metadata": {},
   "outputs": [],
   "source": [
    "AmodeoPth_1h()"
   ]
  },
  {
   "cell_type": "code",
   "execution_count": null,
   "id": "382a2cf4",
   "metadata": {},
   "outputs": [],
   "source": [
    "fig, axs = plt.subplots(1, 3, figsize=(15, 5), layout='constrained')\n",
    "\n",
    "axs[0].loglog(ks, Pgy[:,4])\n",
    "\n",
    "axs[1].loglog(ells, C_ells(Pgy))\n",
    "\n",
    "axs[2].loglog(ells, ells*(ells+1)*C_ells(Pgy)/2/np.pi)\n",
    "\n",
    "axs[0].set(xlabel=r'$k$', ylabel=r'$P_{gy}$'); axs[0].legend()\n",
    "axs[1].set(xlabel=r'$\\ell$', ylabel=r'$C_\\ell$'); axs[1].legend()\n",
    "axs[2].set(xlabel=r'$\\ell$', ylabel=r'$D_\\ell$'); axs[2].legend()\n",
    "\n",
    "plt.show()"
   ]
  },
  {
   "cell_type": "code",
   "execution_count": null,
   "id": "1070fb7f",
   "metadata": {},
   "outputs": [],
   "source": [
    "plt.loglog(ks, C_ells(Spectra.cross1h(logmshalo, hmf, Hg(), Hy())))"
   ]
  },
  {
   "cell_type": "code",
   "execution_count": null,
   "id": "fa173b26",
   "metadata": {},
   "outputs": [],
   "source": [
    "scipy.stats.norm.pdf(zs, loc=0.5, scale=0.1) "
   ]
  },
  {
   "cell_type": "code",
   "execution_count": null,
   "id": "f1910042",
   "metadata": {},
   "outputs": [],
   "source": [
    "(FFTs.mcfit_package(np.logspace(-1, 1)).FFT3D()[0][:, None]*chis).min()"
   ]
  },
  {
   "cell_type": "code",
   "execution_count": null,
   "id": "f33121a9",
   "metadata": {},
   "outputs": [],
   "source": [
    "lmin, lmax, nell = 100, 10000, 20\n",
    "\n",
    "ells_from_ks = ks[:, None]*chis\n",
    "ell_min = np.max([lmin, (ells_from_ks.min()//10 + 1)*10])\n",
    "ell_max = np.min([lmax, (ells_from_ks.max() // 1e3)*1e3])\n",
    "ells = np.geomspace(ell_min, ell_max, nell)\n",
    "ks_from_ells = ells[:, None]/chis\n",
    "\n",
    "tupletest = np.stack((ks_from_ells, zs*np.ones(ks_from_ells.shape)), axis=-1)\n",
    "\n",
    "intp = RegularGridInterpolator((ks, zs), thing, bounds_error=False, fill_value=0)\n",
    "\n",
    "intp(tupletest).shape"
   ]
  },
  {
   "cell_type": "code",
   "execution_count": null,
   "id": "de835766",
   "metadata": {},
   "outputs": [],
   "source": [
    "np.trapz(intp(tupletest), axis=1)"
   ]
  }
 ],
 "metadata": {
  "kernelspec": {
   "display_name": "soliket-test2",
   "language": "python",
   "name": "python3"
  },
  "language_info": {
   "codemirror_mode": {
    "name": "ipython",
    "version": 3
   },
   "file_extension": ".py",
   "mimetype": "text/x-python",
   "name": "python",
   "nbconvert_exporter": "python",
   "pygments_lexer": "ipython3",
   "version": "3.10.13"
  }
 },
 "nbformat": 4,
 "nbformat_minor": 5
}
